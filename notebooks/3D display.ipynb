{
 "cells": [
  {
   "cell_type": "markdown",
   "metadata": {},
   "source": [
    "# Introduction to 3D display\n",
    "# DeepLime Python Crash Course \n",
    "# Paris session 5-6 nov 2018\n",
    "# Laurent Wagner"
   ]
  },
  {
   "cell_type": "markdown",
   "metadata": {},
   "source": [
    "## Importing the packages"
   ]
  },
  {
   "cell_type": "code",
   "execution_count": 16,
   "metadata": {},
   "outputs": [],
   "source": [
    "import ipyvolume.pylab as p3\n",
    "import pandas as pd"
   ]
  },
  {
   "cell_type": "markdown",
   "metadata": {},
   "source": [
    "## Loading a dataset"
   ]
  },
  {
   "cell_type": "code",
   "execution_count": 17,
   "metadata": {},
   "outputs": [],
   "source": [
    "df = pd.read_csv('rock_on.csv')"
   ]
  },
  {
   "cell_type": "code",
   "execution_count": 18,
   "metadata": {},
   "outputs": [
    {
     "data": {
      "text/html": [
       "<div>\n",
       "<style scoped>\n",
       "    .dataframe tbody tr th:only-of-type {\n",
       "        vertical-align: middle;\n",
       "    }\n",
       "\n",
       "    .dataframe tbody tr th {\n",
       "        vertical-align: top;\n",
       "    }\n",
       "\n",
       "    .dataframe thead th {\n",
       "        text-align: right;\n",
       "    }\n",
       "</style>\n",
       "<table border=\"1\" class=\"dataframe\">\n",
       "  <thead>\n",
       "    <tr style=\"text-align: right;\">\n",
       "      <th></th>\n",
       "      <th>Depth Fom</th>\n",
       "      <th>Depth To</th>\n",
       "      <th>Length</th>\n",
       "      <th>X</th>\n",
       "      <th>Y</th>\n",
       "      <th>Z</th>\n",
       "      <th>Al2O3</th>\n",
       "      <th>CaO</th>\n",
       "      <th>Fe</th>\n",
       "      <th>K2O</th>\n",
       "      <th>LOI</th>\n",
       "      <th>MgO</th>\n",
       "      <th>Mn</th>\n",
       "      <th>P</th>\n",
       "      <th>S</th>\n",
       "      <th>SiO2</th>\n",
       "      <th>TiO2</th>\n",
       "      <th>Fe.ox.ai</th>\n",
       "      <th>Kaolinite.abundance</th>\n",
       "      <th>hem.goe</th>\n",
       "    </tr>\n",
       "  </thead>\n",
       "  <tbody>\n",
       "    <tr>\n",
       "      <th>count</th>\n",
       "      <td>4576.000000</td>\n",
       "      <td>4576.000000</td>\n",
       "      <td>4576.000000</td>\n",
       "      <td>4576.000000</td>\n",
       "      <td>4.576000e+03</td>\n",
       "      <td>4576.00000</td>\n",
       "      <td>4576.000000</td>\n",
       "      <td>4576.000000</td>\n",
       "      <td>4576.000000</td>\n",
       "      <td>4576.000000</td>\n",
       "      <td>4576.000000</td>\n",
       "      <td>4576.000000</td>\n",
       "      <td>4576.000000</td>\n",
       "      <td>4576.000000</td>\n",
       "      <td>4576.000000</td>\n",
       "      <td>4576.000000</td>\n",
       "      <td>4576.000000</td>\n",
       "      <td>4576.000000</td>\n",
       "      <td>4576.000000</td>\n",
       "      <td>4576.000000</td>\n",
       "    </tr>\n",
       "    <tr>\n",
       "      <th>mean</th>\n",
       "      <td>17.669580</td>\n",
       "      <td>18.669034</td>\n",
       "      <td>0.999454</td>\n",
       "      <td>547622.182539</td>\n",
       "      <td>7.475573e+06</td>\n",
       "      <td>434.45967</td>\n",
       "      <td>10.967951</td>\n",
       "      <td>1.472051</td>\n",
       "      <td>32.388767</td>\n",
       "      <td>0.174701</td>\n",
       "      <td>11.504276</td>\n",
       "      <td>1.233195</td>\n",
       "      <td>0.081572</td>\n",
       "      <td>0.026054</td>\n",
       "      <td>0.048317</td>\n",
       "      <td>27.092379</td>\n",
       "      <td>0.625506</td>\n",
       "      <td>0.210308</td>\n",
       "      <td>0.083276</td>\n",
       "      <td>906.113285</td>\n",
       "    </tr>\n",
       "    <tr>\n",
       "      <th>std</th>\n",
       "      <td>12.116957</td>\n",
       "      <td>12.115852</td>\n",
       "      <td>0.016520</td>\n",
       "      <td>526.914482</td>\n",
       "      <td>1.394064e+03</td>\n",
       "      <td>14.70211</td>\n",
       "      <td>7.468131</td>\n",
       "      <td>4.172586</td>\n",
       "      <td>17.635963</td>\n",
       "      <td>0.498187</td>\n",
       "      <td>4.467814</td>\n",
       "      <td>2.218057</td>\n",
       "      <td>0.150184</td>\n",
       "      <td>0.038672</td>\n",
       "      <td>0.352707</td>\n",
       "      <td>18.959115</td>\n",
       "      <td>0.517591</td>\n",
       "      <td>0.070636</td>\n",
       "      <td>0.093247</td>\n",
       "      <td>48.819937</td>\n",
       "    </tr>\n",
       "    <tr>\n",
       "      <th>min</th>\n",
       "      <td>0.000000</td>\n",
       "      <td>1.000000</td>\n",
       "      <td>0.500000</td>\n",
       "      <td>546300.000000</td>\n",
       "      <td>7.473598e+06</td>\n",
       "      <td>396.20000</td>\n",
       "      <td>0.320000</td>\n",
       "      <td>0.010000</td>\n",
       "      <td>0.000000</td>\n",
       "      <td>0.000000</td>\n",
       "      <td>0.000000</td>\n",
       "      <td>0.000000</td>\n",
       "      <td>0.000000</td>\n",
       "      <td>0.000000</td>\n",
       "      <td>0.000000</td>\n",
       "      <td>2.380000</td>\n",
       "      <td>0.003000</td>\n",
       "      <td>0.000650</td>\n",
       "      <td>0.008600</td>\n",
       "      <td>435.924988</td>\n",
       "    </tr>\n",
       "    <tr>\n",
       "      <th>25%</th>\n",
       "      <td>7.000000</td>\n",
       "      <td>8.000000</td>\n",
       "      <td>1.000000</td>\n",
       "      <td>547298.400000</td>\n",
       "      <td>7.474401e+06</td>\n",
       "      <td>423.30000</td>\n",
       "      <td>5.377500</td>\n",
       "      <td>0.100000</td>\n",
       "      <td>15.000000</td>\n",
       "      <td>0.021000</td>\n",
       "      <td>9.990000</td>\n",
       "      <td>0.280000</td>\n",
       "      <td>0.010000</td>\n",
       "      <td>0.007000</td>\n",
       "      <td>0.005000</td>\n",
       "      <td>10.807501</td>\n",
       "      <td>0.222750</td>\n",
       "      <td>0.167000</td>\n",
       "      <td>0.008600</td>\n",
       "      <td>908.617492</td>\n",
       "    </tr>\n",
       "    <tr>\n",
       "      <th>50%</th>\n",
       "      <td>16.000000</td>\n",
       "      <td>17.000000</td>\n",
       "      <td>1.000000</td>\n",
       "      <td>547748.100000</td>\n",
       "      <td>7.475605e+06</td>\n",
       "      <td>435.80000</td>\n",
       "      <td>8.790000</td>\n",
       "      <td>0.200000</td>\n",
       "      <td>36.000000</td>\n",
       "      <td>0.044000</td>\n",
       "      <td>11.280000</td>\n",
       "      <td>0.480000</td>\n",
       "      <td>0.040000</td>\n",
       "      <td>0.021000</td>\n",
       "      <td>0.012000</td>\n",
       "      <td>21.475000</td>\n",
       "      <td>0.478500</td>\n",
       "      <td>0.227000</td>\n",
       "      <td>0.039500</td>\n",
       "      <td>911.119995</td>\n",
       "    </tr>\n",
       "    <tr>\n",
       "      <th>75%</th>\n",
       "      <td>27.000000</td>\n",
       "      <td>28.000000</td>\n",
       "      <td>1.000000</td>\n",
       "      <td>547999.600000</td>\n",
       "      <td>7.476003e+06</td>\n",
       "      <td>445.70000</td>\n",
       "      <td>15.432500</td>\n",
       "      <td>0.500000</td>\n",
       "      <td>49.000000</td>\n",
       "      <td>0.123000</td>\n",
       "      <td>11.930000</td>\n",
       "      <td>1.030000</td>\n",
       "      <td>0.122500</td>\n",
       "      <td>0.035000</td>\n",
       "      <td>0.024000</td>\n",
       "      <td>40.502499</td>\n",
       "      <td>0.895000</td>\n",
       "      <td>0.261000</td>\n",
       "      <td>0.142000</td>\n",
       "      <td>913.760010</td>\n",
       "    </tr>\n",
       "    <tr>\n",
       "      <th>max</th>\n",
       "      <td>53.000000</td>\n",
       "      <td>54.000000</td>\n",
       "      <td>1.000000</td>\n",
       "      <td>548498.100000</td>\n",
       "      <td>7.479596e+06</td>\n",
       "      <td>471.40000</td>\n",
       "      <td>39.430000</td>\n",
       "      <td>40.820000</td>\n",
       "      <td>62.000000</td>\n",
       "      <td>9.504000</td>\n",
       "      <td>45.280000</td>\n",
       "      <td>20.010000</td>\n",
       "      <td>6.160000</td>\n",
       "      <td>0.845000</td>\n",
       "      <td>14.145000</td>\n",
       "      <td>92.810000</td>\n",
       "      <td>3.742000</td>\n",
       "      <td>0.355000</td>\n",
       "      <td>0.412000</td>\n",
       "      <td>974.080017</td>\n",
       "    </tr>\n",
       "  </tbody>\n",
       "</table>\n",
       "</div>"
      ],
      "text/plain": [
       "         Depth Fom     Depth To       Length              X             Y  \\\n",
       "count  4576.000000  4576.000000  4576.000000    4576.000000  4.576000e+03   \n",
       "mean     17.669580    18.669034     0.999454  547622.182539  7.475573e+06   \n",
       "std      12.116957    12.115852     0.016520     526.914482  1.394064e+03   \n",
       "min       0.000000     1.000000     0.500000  546300.000000  7.473598e+06   \n",
       "25%       7.000000     8.000000     1.000000  547298.400000  7.474401e+06   \n",
       "50%      16.000000    17.000000     1.000000  547748.100000  7.475605e+06   \n",
       "75%      27.000000    28.000000     1.000000  547999.600000  7.476003e+06   \n",
       "max      53.000000    54.000000     1.000000  548498.100000  7.479596e+06   \n",
       "\n",
       "                Z        Al2O3          CaO           Fe          K2O  \\\n",
       "count  4576.00000  4576.000000  4576.000000  4576.000000  4576.000000   \n",
       "mean    434.45967    10.967951     1.472051    32.388767     0.174701   \n",
       "std      14.70211     7.468131     4.172586    17.635963     0.498187   \n",
       "min     396.20000     0.320000     0.010000     0.000000     0.000000   \n",
       "25%     423.30000     5.377500     0.100000    15.000000     0.021000   \n",
       "50%     435.80000     8.790000     0.200000    36.000000     0.044000   \n",
       "75%     445.70000    15.432500     0.500000    49.000000     0.123000   \n",
       "max     471.40000    39.430000    40.820000    62.000000     9.504000   \n",
       "\n",
       "               LOI          MgO           Mn            P            S  \\\n",
       "count  4576.000000  4576.000000  4576.000000  4576.000000  4576.000000   \n",
       "mean     11.504276     1.233195     0.081572     0.026054     0.048317   \n",
       "std       4.467814     2.218057     0.150184     0.038672     0.352707   \n",
       "min       0.000000     0.000000     0.000000     0.000000     0.000000   \n",
       "25%       9.990000     0.280000     0.010000     0.007000     0.005000   \n",
       "50%      11.280000     0.480000     0.040000     0.021000     0.012000   \n",
       "75%      11.930000     1.030000     0.122500     0.035000     0.024000   \n",
       "max      45.280000    20.010000     6.160000     0.845000    14.145000   \n",
       "\n",
       "              SiO2         TiO2     Fe.ox.ai  Kaolinite.abundance      hem.goe  \n",
       "count  4576.000000  4576.000000  4576.000000          4576.000000  4576.000000  \n",
       "mean     27.092379     0.625506     0.210308             0.083276   906.113285  \n",
       "std      18.959115     0.517591     0.070636             0.093247    48.819937  \n",
       "min       2.380000     0.003000     0.000650             0.008600   435.924988  \n",
       "25%      10.807501     0.222750     0.167000             0.008600   908.617492  \n",
       "50%      21.475000     0.478500     0.227000             0.039500   911.119995  \n",
       "75%      40.502499     0.895000     0.261000             0.142000   913.760010  \n",
       "max      92.810000     3.742000     0.355000             0.412000   974.080017  "
      ]
     },
     "execution_count": 18,
     "metadata": {},
     "output_type": "execute_result"
    }
   ],
   "source": [
    "df.describe()"
   ]
  },
  {
   "cell_type": "markdown",
   "metadata": {},
   "source": [
    "## Simple display with no colors"
   ]
  },
  {
   "cell_type": "markdown",
   "metadata": {},
   "source": [
    "Use p3.ipyvolume.quickscatter(x,y,z) to make a quick 3D display"
   ]
  },
  {
   "cell_type": "code",
   "execution_count": 20,
   "metadata": {
    "scrolled": true
   },
   "outputs": [
    {
     "data": {
      "application/vnd.jupyter.widget-view+json": {
       "model_id": "358a73d620124409ae85d917954d94dd",
       "version_major": 2,
       "version_minor": 0
      },
      "text/plain": [
       "VBox(children=(Figure(camera=PerspectiveCamera(fov=46.0, position=(0.0, 0.0, 2.0), quaternion=(0.0, 0.0, 0.0, …"
      ]
     },
     "metadata": {},
     "output_type": "display_data"
    }
   ],
   "source": [
    "p3.figure() #calling figure() from ipyvolume.pylab (p3)\n",
    "\n",
    "#usinf the quickscatter function\n",
    "scatter_kmeans=p3.ipyvolume.quickscatter(df['X'], df['Y'], df['Z'],marker=\"sphere\", size=0.5)\n",
    "\n",
    "#setting the axis limit (origin would start at 0 otherwise)\n",
    "p3.xlim(df['X'].min(), df['X'].max())\n",
    "p3.ylim(df['Y'].min(), df['Y'].max())\n",
    "p3.zlim(df['Z'].min(), df['Z'].max())\n",
    "\n",
    "p3.show()"
   ]
  },
  {
   "cell_type": "markdown",
   "metadata": {},
   "source": [
    "Use other values for marker: ‘arrow’, ‘box’, ‘diamond’, ‘sphere’, ‘point_2d’, ‘square_2d’, ‘triangle_2d’, ‘circle_2d’ \n",
    "Note that 2d markers make the 3d faster.\n",
    "you might have to edit the size."
   ]
  },
  {
   "cell_type": "code",
   "execution_count": 39,
   "metadata": {},
   "outputs": [
    {
     "data": {
      "application/vnd.jupyter.widget-view+json": {
       "model_id": "3e88750db07d485a9785ab49249d8501",
       "version_major": 2,
       "version_minor": 0
      },
      "text/plain": [
       "VBox(children=(Figure(camera=PerspectiveCamera(fov=46.0, position=(0.0, 0.0, 2.0), quaternion=(0.0, 0.0, 0.0, …"
      ]
     },
     "metadata": {},
     "output_type": "display_data"
    }
   ],
   "source": [
    "p3.figure() #calling figure() from ipyvolume.pylab (p3)\n",
    "\n",
    "#usinf the quickscatter function\n",
    "scatter_kmeans=p3.ipyvolume.quickscatter(df['X'], df['Y'], df['Z'],marker=\"point_2d\", size=15)\n",
    "\n",
    "#setting the axis limit (origin would start at 0 otherwise)\n",
    "p3.xlim(df['X'].min(), df['X'].max())\n",
    "p3.ylim(df['Y'].min(), df['Y'].max())\n",
    "p3.zlim(df['Z'].min(), df['Z'].max())\n",
    "\n",
    "p3.show()"
   ]
  },
  {
   "cell_type": "markdown",
   "metadata": {},
   "source": [
    "## Adding color"
   ]
  },
  {
   "cell_type": "markdown",
   "metadata": {},
   "source": [
    "We need to convert Fe into a RGB array.\n",
    "to do use a color map from matplotlib : ```plt.get_cmap('viridis')``` that return a RGB-transparency vertor as [R,G,B,Transparency]."
   ]
  },
  {
   "cell_type": "code",
   "execution_count": 36,
   "metadata": {},
   "outputs": [],
   "source": [
    "import matplotlib.pyplot as plt\n",
    "import math\n",
    "import numpy as np\n",
    "\n",
    "viridis = plt.get_cmap('viridis')\n",
    "x = df['Fe']\n",
    "normalized_x=(x-x.min())/(x.max()-x.min())\n",
    "\n",
    "Fe_color =  []\n",
    "for i in normalized_x:\n",
    "    if math.isnan(i):\n",
    "        i = [170,170,170] #grey\n",
    "    else:\n",
    "        i = viridis(i)\n",
    "        i = list(i)\n",
    "        i.pop() # removing the transparency\n",
    "    i=  np.asarray(i)\n",
    "    Fe_color.append(i)\n"
   ]
  },
  {
   "cell_type": "code",
   "execution_count": 38,
   "metadata": {},
   "outputs": [
    {
     "data": {
      "application/vnd.jupyter.widget-view+json": {
       "model_id": "e2ba8c7277424ae1bb5de75d10a78431",
       "version_major": 2,
       "version_minor": 0
      },
      "text/plain": [
       "VBox(children=(Figure(camera=PerspectiveCamera(fov=46.0, position=(0.0, 0.0, 2.0), quaternion=(0.0, 0.0, 0.0, …"
      ]
     },
     "metadata": {},
     "output_type": "display_data"
    }
   ],
   "source": [
    "p3.figure() #calling figure() from ipyvolume.pylab (p3)\n",
    "\n",
    "#usinf the quickscatter function\n",
    "scatter_kmeans=p3.ipyvolume.quickscatter(df['X'], df['Y'], df['Z'],color=Fe_color,marker=\"point_2d\", size=15)\n",
    "\n",
    "#setting the axis limit (origin would start at 0 otherwise)\n",
    "p3.xlim(df['X'].min(), df['X'].max())\n",
    "p3.ylim(df['Y'].min(), df['Y'].max())\n",
    "p3.zlim(df['Z'].min(), df['Z'].max())\n",
    "\n",
    "p3.show()"
   ]
  }
 ],
 "metadata": {
  "anaconda-cloud": {},
  "kernelspec": {
   "display_name": "Python 3",
   "language": "python",
   "name": "python3"
  },
  "language_info": {
   "codemirror_mode": {
    "name": "ipython",
    "version": 3
   },
   "file_extension": ".py",
   "mimetype": "text/x-python",
   "name": "python",
   "nbconvert_exporter": "python",
   "pygments_lexer": "ipython3",
   "version": "3.6.5"
  }
 },
 "nbformat": 4,
 "nbformat_minor": 1
}
